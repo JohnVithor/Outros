{
 "cells": [
  {
   "cell_type": "code",
   "execution_count": 210,
   "metadata": {},
   "outputs": [],
   "source": [
    "import pandas as pd"
   ]
  },
  {
   "cell_type": "code",
   "execution_count": 216,
   "metadata": {},
   "outputs": [],
   "source": [
    "def extract_turmas ( cod_componente ):\n",
    "    data_sets_turmas = [\"Data/turmas/turmas-2016.1.csv\", \"Data/turmas/turmas-2016.2.csv\",\n",
    "                        \"Data/turmas/turmas-2017.1.csv\", \"Data/turmas/turmas-2017.2.csv\"]\n",
    "    turmas = []\n",
    "    for i in range( len( data_sets_turmas ) ):\n",
    "        aux = pd.read_csv( data_sets_turmas[i], sep = \";\" )\n",
    "        aux = aux[ aux[ \"id_componente_curricular\" ] == cod_componente ]\n",
    "        turmas.append(aux)\n",
    "            \n",
    "    return turmas"
   ]
  },
  {
   "cell_type": "code",
   "execution_count": 217,
   "metadata": {},
   "outputs": [],
   "source": [
    "turmas_itp = extract_turmas( 52651 ) # ITP IMD0012.0\n",
    "turmas_ptp = extract_turmas( 52652 ) # PTP IMD0012.1"
   ]
  },
  {
   "cell_type": "code",
   "execution_count": 219,
   "metadata": {},
   "outputs": [],
   "source": [
    "def extract_id_docente ( docente , listaTurmas):\n",
    "    turmas = []\n",
    "    for i in range( len( listaTurmas ) ):\n",
    "        aux = listaTurmas[i]\n",
    "        aux = aux[ aux[ \"id_docente_interno\" ] == docente ]\n",
    "        turmas.append(aux)\n",
    "    return turmas"
   ]
  },
  {
   "cell_type": "code",
   "execution_count": 220,
   "metadata": {},
   "outputs": [],
   "source": [
    "def extract_id_comp_curr (listaTurmas):\n",
    "    id_comp = []\n",
    "    for i in range( len( listaTurmas ) ):\n",
    "        for j in listaTurmas[i][\"id_turma\"]:\n",
    "            id_comp.append( int(j) )\n",
    "    return id_comp"
   ]
  },
  {
   "cell_type": "code",
   "execution_count": null,
   "metadata": {},
   "outputs": [],
   "source": [
    "#5757969 ANDRE LUIZ DA SILVA SOLINO\n",
    "#5756803 RAFAEL BESERRA GOMES"
   ]
  },
  {
   "cell_type": "code",
   "execution_count": 221,
   "metadata": {},
   "outputs": [],
   "source": [
    "turmasITP_Solino = extract_id_docente(5757969, turmas_itp) # Código do docente\n",
    "turmasITP_Beserra = extract_id_docente(5756803, turmas_itp) # Código do docente"
   ]
  },
  {
   "cell_type": "code",
   "execution_count": 222,
   "metadata": {},
   "outputs": [],
   "source": [
    "turmasPTP_Solino = extract_id_docente(5757969, turmas_ptp)\n",
    "turmasPTP_Beserra = extract_id_docente(5756803, turmas_ptp)"
   ]
  },
  {
   "cell_type": "code",
   "execution_count": 223,
   "metadata": {},
   "outputs": [],
   "source": [
    "id_turmasITP_Solino = extract_id_comp_curr(turmasITP_Solino)\n",
    "id_turmasPTP_Solino = extract_id_comp_curr(turmasPTP_Solino)\n",
    "id_turmasITP_Beserra = extract_id_comp_curr(turmasITP_Beserra)\n",
    "id_turmasPTP_Beserra = extract_id_comp_curr(turmasPTP_Beserra)"
   ]
  },
  {
   "cell_type": "code",
   "execution_count": 224,
   "metadata": {},
   "outputs": [],
   "source": [
    "def extract_data_sets_turmas( lista_turmas ):\n",
    "    data_sets_matriculas = [\"Data/matriculas/matricula-componente-20161.csv\", \"Data/matriculas/matricula-componente-20162.csv\",\n",
    "                            \"Data/matriculas/matricula-componente-20171.csv\", \"Data/matriculas/matricula-componente-20172.csv\"]\n",
    "    data_sets = []\n",
    "    for i in range( len( data_sets_matriculas ) ):\n",
    "        aux = pd.read_csv( data_sets_matriculas[i], sep = \";\" )\n",
    "        for j in range( len( lista_turmas ) ):\n",
    "            temp = aux[aux[\"id_turma\"] == lista_turmas[j] ]\n",
    "            data_sets.append( temp )\n",
    "            \n",
    "    return data_sets"
   ]
  },
  {
   "cell_type": "code",
   "execution_count": 225,
   "metadata": {},
   "outputs": [],
   "source": [
    "data_sets_matriculas_itp_Solino = extract_data_sets_turmas( id_turmasITP_Solino )\n",
    "data_sets_matriculas_ptp_Solino = extract_data_sets_turmas( id_turmasPTP_Solino )"
   ]
  },
  {
   "cell_type": "code",
   "execution_count": 226,
   "metadata": {},
   "outputs": [],
   "source": [
    "data_sets_matriculas_itp_Beserra = extract_data_sets_turmas( id_turmasITP_Beserra )\n",
    "data_sets_matriculas_ptp_Beserra = extract_data_sets_turmas( id_turmasPTP_Beserra )"
   ]
  },
  {
   "cell_type": "code",
   "execution_count": 228,
   "metadata": {},
   "outputs": [],
   "source": [
    "def extract_data_sets_turmas( lista_turmas ):\n",
    "    algo = []\n",
    "    for i in range(len(lista_turmas)):\n",
    "        if (not lista_turmas[i].empty):\n",
    "            algo.append(lista_turmas[i])\n",
    "        \n",
    "    return algo"
   ]
  },
  {
   "cell_type": "code",
   "execution_count": null,
   "metadata": {},
   "outputs": [],
   "source": [
    "data_sets_matriculas_itp_Solino = extract_data_sets_turmas(data_sets_matriculas_itp_Solino)\n",
    "data_sets_matriculas_ptp_Solino = extract_data_sets_turmas(data_sets_matriculas_ptp_Solino)"
   ]
  },
  {
   "cell_type": "code",
   "execution_count": null,
   "metadata": {},
   "outputs": [],
   "source": [
    "data_sets_matriculas_itp_Beserra = extract_data_sets_turmas(data_sets_matriculas_itp_Beserra)\n",
    "data_sets_matriculas_ptp_Beserra = extract_data_sets_turmas(data_sets_matriculas_ptp_Beserra)"
   ]
  },
  {
   "cell_type": "code",
   "execution_count": null,
   "metadata": {},
   "outputs": [],
   "source": [
    "ias = 1\n",
    "for sets in data_sets_matriculas_itp_Beserra:\n",
    "    sets.to_csv(path_or_buf=\"Data/Beserra/itp_Beserra\" + str(ias) + \".csv\", sep = \";\")\n",
    "    ias = ias + 1\n",
    "    \n",
    "ias = 1\n",
    "for sets in data_sets_matriculas_ptp_Beserra:\n",
    "    sets.to_csv(path_or_buf=\"Data/Beserra/ptp_Beserra\" + str(ias) + \".csv\", sep = \";\")\n",
    "    ias = ias + 1"
   ]
  },
  {
   "cell_type": "code",
   "execution_count": 245,
   "metadata": {},
   "outputs": [],
   "source": [
    "ias = 1\n",
    "for sets in data_sets_matriculas_itp_Solino:\n",
    "    sets.to_csv(path_or_buf=\"Data/Solino/itp_Solino\" + str(ias) + \".csv\", sep = \";\")\n",
    "    ias = ias + 1\n",
    "    \n",
    "ias = 1\n",
    "for sets in data_sets_matriculas_ptp_Solino:\n",
    "    sets.to_csv(path_or_buf=\"Data/Solino/ptp_Solino\" + str(ias) + \".csv\", sep = \";\")\n",
    "    ias = ias + 1"
   ]
  }
 ],
 "metadata": {
  "kernelspec": {
   "display_name": "Python 3",
   "language": "python",
   "name": "python3"
  },
  "language_info": {
   "codemirror_mode": {
    "name": "ipython",
    "version": 3
   },
   "file_extension": ".py",
   "mimetype": "text/x-python",
   "name": "python",
   "nbconvert_exporter": "python",
   "pygments_lexer": "ipython3",
   "version": "3.6.4"
  }
 },
 "nbformat": 4,
 "nbformat_minor": 2
}
